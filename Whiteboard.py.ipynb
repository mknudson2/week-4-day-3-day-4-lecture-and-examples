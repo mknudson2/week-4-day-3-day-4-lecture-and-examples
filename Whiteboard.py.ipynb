{
 "cells": [
  {
   "cell_type": "code",
   "execution_count": null,
   "id": "3527ebad",
   "metadata": {},
   "outputs": [],
   "source": [
    "# DESCRIPTION:\n",
    "# You are stacking some boxes containing gold weights on top of each other. \n",
    "# If a box contains more weight than the box below it, it will crash downwards and combine their weights. e.g. \n",
    "# If we stack [2] on top of [1], it will crash downwards and become a single box of weight [3].\n",
    "\n",
    "# [2]\n",
    "# [1] --> [3]\n",
    "# Given an array of arrays, return the bottom row (i.e. the last array) after all crashings are complete.\n",
    "\n",
    "# crashing_weights([[1, 2, 3],  --> [[1, 2,  ],      [[1,  ,  ],\n",
    "#                   [2, 3, 1],  -->  [2, 3, 4],  -->  [2, 2,  ],\n",
    "#                   [3, 1, 2]])      [3, 1, 2]]  -->  [3, 4, 6]]\n",
    "\n",
    "# therefore return [3, 4, 6]\n",
    "# More details\n",
    "# boxes can be stacked to any height, and the crashing effect can snowball:\n",
    "\n",
    "# [3]\n",
    "# [2]     [5]\n",
    "# [4] --> [4] --> [9]\n",
    "# Crashing should always start from as high up as possible -- this can alter the outcome! e.g.\n",
    "\n",
    "# [3]                      [3]\n",
    "# [2]     [5]              [2]     [3]\n",
    "# [1] --> [1] --> [6], not [1] --> [3] \n",
    "# Weights will always be integers. The matrix (array of arrays) may have any height or width >= 1, \n",
    "# and may not be square, but it will always be \"nice\" (all rows will have the same number of columns, etc)."
   ]
  },
  {
   "cell_type": "code",
   "execution_count": null,
   "id": "cf313ba7",
   "metadata": {},
   "outputs": [],
   "source": [
    "# compare indecies across lists (i.e., 0 to 0, 1 to 1 etc.)\n",
    "# if lst[0][0] > lst[1][0]:\n",
    "#     lst[1][0] == lst[0][0] + lst[1][0]\n",
    "    \n",
    "#     Continue this pattern across the indecies and then again once the initial line has been done. \n",
    "#     Will this require a recursive to continue to cycle through itself?\n",
    "    \n",
    "    \n",
    "    \n",
    "    \n",
    "def stacked_boxes(alist):\n",
    "    if len(alist) == 1:\n",
    "        return alist[0]\n",
    "    for lst in range(1, len(alist)):\n",
    "        for i in range(0,len(alist[lst])):\n",
    "            if alist[lst][i] < alist[lst - 1][i]:\n",
    "                alist[lst][i] += alist[lst - 1][i]\n",
    "    return alist[len(alist) - 1]\n",
    "#O(n*m)\n",
    "print(stacked_boxes([[1,2,3],[2,3,1],[3,1,2]]))"
   ]
  }
 ],
 "metadata": {
  "kernelspec": {
   "display_name": "Python 3 (ipykernel)",
   "language": "python",
   "name": "python3"
  },
  "language_info": {
   "codemirror_mode": {
    "name": "ipython",
    "version": 3
   },
   "file_extension": ".py",
   "mimetype": "text/x-python",
   "name": "python",
   "nbconvert_exporter": "python",
   "pygments_lexer": "ipython3",
   "version": "3.10.9"
  }
 },
 "nbformat": 4,
 "nbformat_minor": 5
}
